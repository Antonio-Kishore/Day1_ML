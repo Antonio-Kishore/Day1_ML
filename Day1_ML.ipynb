{
  "nbformat": 4,
  "nbformat_minor": 0,
  "metadata": {
    "colab": {
      "name": "Day1_ML.ipynb",
      "provenance": [],
      "authorship_tag": "ABX9TyNqvMI0YAUQ89rpO4c/tlxZ",
      "include_colab_link": true
    },
    "kernelspec": {
      "name": "python3",
      "display_name": "Python 3"
    },
    "language_info": {
      "name": "python"
    }
  },
  "cells": [
    {
      "cell_type": "markdown",
      "metadata": {
        "id": "view-in-github",
        "colab_type": "text"
      },
      "source": [
        "<a href=\"https://colab.research.google.com/github/Antonio-Kishore/Day1_ML/blob/main/Day1_ML.ipynb\" target=\"_parent\"><img src=\"https://colab.research.google.com/assets/colab-badge.svg\" alt=\"Open In Colab\"/></a>"
      ]
    },
    {
      "cell_type": "markdown",
      "metadata": {
        "id": "MP8cJkY6Lbsc"
      },
      "source": [
        "**Numpy**"
      ]
    },
    {
      "cell_type": "code",
      "metadata": {
        "id": "umz5eQKQJIfp",
        "colab": {
          "base_uri": "https://localhost:8080/"
        },
        "outputId": "040bac2c-8983-4580-9166-90601bab8822"
      },
      "source": [
        "# Mathematical Operations\n",
        "import numpy as np\n",
        "a=[1,2,3,4,5]\n",
        "arr1=np.array(a)\n",
        "b=[[1,2,3,4],[5,6,7,8]]\n",
        "arr2=np.array(b)\n",
        "print(arr1)\n",
        "print(arr2)"
      ],
      "execution_count": 2,
      "outputs": [
        {
          "output_type": "stream",
          "text": [
            "[1 2 3 4 5]\n",
            "[[1 2 3 4]\n",
            " [5 6 7 8]]\n"
          ],
          "name": "stdout"
        }
      ]
    },
    {
      "cell_type": "code",
      "metadata": {
        "colab": {
          "base_uri": "https://localhost:8080/"
        },
        "id": "teFKkEmkNx8x",
        "outputId": "9ff62916-1825-49c9-9183-130acfbb011a"
      },
      "source": [
        "print(type(a),\n",
        "type(arr1),\n",
        "type(b),\n",
        "type(arr2))"
      ],
      "execution_count": 4,
      "outputs": [
        {
          "output_type": "stream",
          "text": [
            "<class 'list'> <class 'numpy.ndarray'> <class 'list'> <class 'numpy.ndarray'>\n"
          ],
          "name": "stdout"
        }
      ]
    },
    {
      "cell_type": "code",
      "metadata": {
        "colab": {
          "base_uri": "https://localhost:8080/"
        },
        "id": "UjTisf6VOJ3a",
        "outputId": "20398072-e0d6-42c9-a2ab-f508715a9ec4"
      },
      "source": [
        "import sys\n",
        "s= range(1000)\n",
        "print(\"Size of each element in the list in bytes\", sys.getsizeof(s))\n",
        "print(\"Complete list size in bytes\",sys.getsizeof(s)*len(s))\n"
      ],
      "execution_count": 6,
      "outputs": [
        {
          "output_type": "stream",
          "text": [
            "Size of each element in the list in bytes 48\n",
            "Complete list size in bytes 48000\n"
          ],
          "name": "stdout"
        }
      ]
    },
    {
      "cell_type": "code",
      "metadata": {
        "colab": {
          "base_uri": "https://localhost:8080/"
        },
        "id": "0CEkxmTTOhqH",
        "outputId": "a0dee013-4bf2-4e06-c267-7c98d65ba1eb"
      },
      "source": [
        "#We are Checking comparison between numpy size and normal size of \"sys\" package\n",
        "import numpy as np\n",
        "s=np.arange(1000)\n",
        "print(\"Size of each element in the list by bytes\",s.itemsize)\n",
        "print(\"Complete list size in bytes\",s.size * s.itemsize)"
      ],
      "execution_count": 8,
      "outputs": [
        {
          "output_type": "stream",
          "text": [
            "Size of each element in the list by bytes 8\n",
            "Complete list size in bytes 8000\n"
          ],
          "name": "stdout"
        }
      ]
    },
    {
      "cell_type": "code",
      "metadata": {
        "colab": {
          "base_uri": "https://localhost:8080/"
        },
        "id": "tMwZclLsPqLT",
        "outputId": "7fd7adda-668d-47c1-f8d8-8c94a11b6fca"
      },
      "source": [
        "#Import time library and make execution time taking by the system\n",
        "import time\n",
        "a= range(1000)\n",
        "b=range(1000)\n",
        "start = time.time()\n",
        "ab=[(a*b) for a,b in zip(a,b)]\n",
        "end=time.time()\n",
        "print(\"Total time taken\", end-start)"
      ],
      "execution_count": 9,
      "outputs": [
        {
          "output_type": "stream",
          "text": [
            "Total time taken 0.00017070770263671875\n"
          ],
          "name": "stdout"
        }
      ]
    },
    {
      "cell_type": "code",
      "metadata": {
        "colab": {
          "base_uri": "https://localhost:8080/"
        },
        "id": "0HoDl3REQ3eM",
        "outputId": "34a26eb0-28d5-4a8d-bb85-c57c6092d500"
      },
      "source": [
        "import numpy\n",
        "arr1=np.arange(1000)\n",
        "arr2=np.arange(1000)\n",
        "start=time.time()\n",
        "arr_mul=arr1*arr2\n",
        "end=time.time()\n",
        "print(\"Total time taken\",end-start)"
      ],
      "execution_count": 13,
      "outputs": [
        {
          "output_type": "stream",
          "text": [
            "Total time taken 4.553794860839844e-05\n"
          ],
          "name": "stdout"
        }
      ]
    },
    {
      "cell_type": "code",
      "metadata": {
        "colab": {
          "base_uri": "https://localhost:8080/"
        },
        "id": "xHeyOTW-RenR",
        "outputId": "982c7a48-76f5-4625-8eec-12383f5b429b"
      },
      "source": [
        "lst1=[1,2,3,4]\n",
        "arr=np.array(lst1)\n",
        "print(arr)"
      ],
      "execution_count": 14,
      "outputs": [
        {
          "output_type": "stream",
          "text": [
            "[1 2 3 4]\n"
          ],
          "name": "stdout"
        }
      ]
    },
    {
      "cell_type": "code",
      "metadata": {
        "id": "JOj3tf4sShAS"
      },
      "source": [
        ""
      ],
      "execution_count": null,
      "outputs": []
    }
  ]
}